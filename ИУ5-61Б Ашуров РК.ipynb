{
  "cells": [
    {
      "cell_type": "markdown",
      "metadata": {
        "id": "S_CHlykPL_RE"
      },
      "source": [
        "**Задача А.\n",
        "Даны результаты нескольких измерений: 7 6 8 5 5 6 9 4 8 9**"
      ]
    },
    {
      "cell_type": "markdown",
      "metadata": {
        "id": "C7Ysw3TtMx4N"
      },
      "source": [
        "1) Определите доверительную вероятность получения оценки среднего значения измеряемой величины\n",
        "с точностью е = 1\n"
      ]
    },
    {
      "cell_type": "code",
      "execution_count": null,
      "metadata": {
        "id": "9BH3TLrUL-WO"
      },
      "outputs": [],
      "source": [
        "import numpy as np\n",
        "\n",
        "# Задаем данные\n",
        "data = np.array([10, 13, 10, 14, 9, 7, 11, 8, 12, 13])"
      ]
    },
    {
      "cell_type": "code",
      "execution_count": null,
      "metadata": {
        "colab": {
          "base_uri": "https://localhost:8080/"
        },
        "id": "Pim360anMK7y",
        "outputId": "f7ab0ab7-3a59-4194-adcb-ea1bd0e09dd3"
      },
      "outputs": [
        {
          "name": "stdout",
          "output_type": "stream",
          "text": [
            "Доверительная вероятность: 0.693279164550616\n"
          ]
        }
      ],
      "source": [
        "data = np.array(data)\n",
        "\n",
        "mean = np.mean(data)\n",
        "\n",
        "std_dev = np.std(data)\n",
        "\n",
        "confidence_interval = std_dev / np.sqrt(len(data))\n",
        "\n",
        "print(f\"Доверительная вероятность: {confidence_interval}\")"
      ]
    },
    {
      "cell_type": "markdown",
      "metadata": {
        "id": "4ki1nkT3Mz0C"
      },
      "source": [
        "2) Найдите число измерений необходимых для получения среднего значения с точностью e = 0.25 и\n",
        "доверительной вероятностью Р=0,995\n"
      ]
    },
    {
      "cell_type": "code",
      "execution_count": null,
      "metadata": {
        "colab": {
          "base_uri": "https://localhost:8080/"
        },
        "id": "-vaScBJ7MQwZ",
        "outputId": "64419aa3-a25e-4d6f-905e-3e7c91e8a830"
      },
      "outputs": [
        {
          "name": "stdout",
          "output_type": "stream",
          "text": [
            "Число измерений: 6121.0\n"
          ]
        }
      ],
      "source": [
        "from scipy.stats import norm\n",
        "\n",
        "# Точность\n",
        "epsilon = 0.25\n",
        "\n",
        "# Доверительная вероятность\n",
        "alpha = 1 - 0.995\n",
        "\n",
        "# Расчет стандартного отклонения\n",
        "std_dev = np.std(data, ddof=1)\n",
        "\n",
        "# Расчет числа измерений\n",
        "n = np.ceil((norm.ppf(1 - alpha / 2) * std_dev / epsilon)**2)\n",
        "\n",
        "print(f\"Число измерений: {n}\")"
      ]
    },
    {
      "cell_type": "markdown",
      "metadata": {
        "id": "pryIsvedM2OY"
      },
      "source": [
        "**Задача Б. В результате наблюдения было получено 100 значений признака, составляющих выборку из\n",
        "генеральной совокупности. Выполните задания:**"
      ]
    },
    {
      "cell_type": "markdown",
      "metadata": {
        "id": "y9rbfeRJZJdt"
      },
      "source": [
        "110 114 100 110 117 109 117 94 116 107\n",
        "110 95 122 122 115 102 116 119 116 118\n",
        "115 118 106 103 116 110 109 121 123 97\n",
        "113 110 119 107 93 104 115 101 121 111\n",
        "107 123 109 120 100 111 110 109 106 119\n",
        "105 110 123 106 95 107 105 118 114 109\n",
        "100 120 107 118 110 99 117 110 104 113\n",
        "108 113 105 110 117 116 111 104 115 110\n",
        "98 104 110 117 113 114 107 113 107 101\n",
        "112 108 116 110 111 103 111 115 110 108"
      ]
    },
    {
      "cell_type": "markdown",
      "metadata": {
        "id": "8FVqKEevM5KR"
      },
      "source": [
        "1) Найдите выборочное среднее, выборочную дисперсию, среднеквадратическое отклонение; размах\n",
        "данных; максимум и минимум.\n"
      ]
    },
    {
      "cell_type": "markdown",
      "metadata": {},
      "source": [
        "#Ашуров Георгий, ИУ5-61Б, Вариант 50."
      ]
    },
    {
      "cell_type": "code",
      "execution_count": null,
      "metadata": {
        "colab": {
          "base_uri": "https://localhost:8080/"
        },
        "id": "sdaqQorsM7BO",
        "outputId": "f6011245-d3d2-4d98-ee80-76be8032c3d6"
      },
      "outputs": [
        {
          "name": "stdout",
          "output_type": "stream",
          "text": [
            "Выборочное среднее: 110.42\n",
            "Выборочная дисперсия: 48.549090909090914\n",
            "Среднеквадратическое отклонение: 6.967717769046828\n",
            "Размах данных: 30\n",
            "Максимум: 123\n",
            "Минимум: 93\n"
          ]
        }
      ],
      "source": [
        "import seaborn as sns\n",
        "import matplotlib.pyplot as plt\n",
        "import pandas as pd\n",
        "import numpy as np\n",
        "from scipy import stats\n",
        "\n",
        "# Создаем DataFrame из данных\n",
        "data = [110, 114, 100, 110, 117, 109, 117, 94, 116, 107,\n",
        "        110, 95, 122, 122, 115, 102, 116, 119, 116, 118,\n",
        "        115, 118, 106, 103, 116, 110, 109, 121, 123, 97,\n",
        "        113, 110, 119, 107, 93, 104, 115, 101, 121, 111,\n",
        "        107, 123, 109, 120, 100, 111, 110, 109, 106, 119,\n",
        "        105, 110, 123, 106, 95, 107, 105, 118, 114, 109,\n",
        "        100, 120, 107, 118, 110, 99, 117, 110, 104, 113,\n",
        "        108, 113, 105, 110, 117, 116, 111, 104, 115, 110,\n",
        "        98, 104, 110, 117, 113, 114, 107, 113, 107, 101,\n",
        "        112, 108, 116, 110, 111, 103, 111, 115, 110, 108]\n",
        "df = pd.DataFrame(data, columns=['Value'])\n",
        "\n",
        "# Вычисляем статистические показатели\n",
        "mean = df['Value'].mean()\n",
        "variance = df['Value'].var()\n",
        "std_dev = df['Value'].std()\n",
        "range_data = df['Value'].max() - df['Value'].min()\n",
        "max_value = df['Value'].max()\n",
        "min_value = df['Value'].min()\n",
        "\n",
        "print(f\"Выборочное среднее: {mean}\")\n",
        "print(f\"Выборочная дисперсия: {variance}\")\n",
        "print(f\"Среднеквадратическое отклонение: {std_dev}\")\n",
        "print(f\"Размах данных: {range_data}\")\n",
        "print(f\"Максимум: {max_value}\")\n",
        "print(f\"Минимум: {min_value}\")"
      ]
    },
    {
      "cell_type": "markdown",
      "metadata": {
        "id": "6KV-oc1xNHWy"
      },
      "source": [
        "2) Оцените математическое ожидание генеральной совокупности с помощью доверительного интервала\n",
        "с надёжностями 0,95; 0,99; 0,999.\n"
      ]
    },
    {
      "cell_type": "code",
      "execution_count": null,
      "metadata": {
        "colab": {
          "base_uri": "https://localhost:8080/"
        },
        "id": "gSuvmwRWNIZ4",
        "outputId": "847033fc-8959-43e9-83d6-0cd09d9862f7"
      },
      "outputs": [
        {
          "name": "stdout",
          "output_type": "stream",
          "text": [
            "Доверительный интервал с надёжностями 0.95: (109.03745362893291, 111.8025463710671)\n",
            "Доверительный интервал с надёжностями 0.99: (108.58999480328234, 112.25000519671767)\n",
            "Доверительный интервал с надёжностями 0.999: (108.05687842291778, 112.78312157708226)\n"
          ]
        }
      ],
      "source": [
        "from scipy.stats import t\n",
        "\n",
        "# Количество измерений\n",
        "n = len(df)\n",
        "\n",
        "# Вычисляем доверительные интервалы\n",
        "\n",
        "# Для 0.95\n",
        "alpha = 1 - 0.95\n",
        "confidence_interval_95 = t.interval(1 - alpha, n - 1, loc=mean, scale=std_dev / np.sqrt(n))\n",
        "\n",
        "# Для 0.99\n",
        "alpha = 1 - 0.99\n",
        "confidence_interval_99 = t.interval(1 - alpha, n - 1, loc=mean, scale=std_dev / np.sqrt(n))\n",
        "\n",
        "# Для 0.999\n",
        "alpha = 1 - 0.999\n",
        "confidence_interval_999 = t.interval(1 - alpha, n - 1, loc=mean, scale=std_dev / np.sqrt(n))\n",
        "\n",
        "print(f\"Доверительный интервал с надёжностями 0.95: {confidence_interval_95}\")\n",
        "print(f\"Доверительный интервал с надёжностями 0.99: {confidence_interval_99}\")\n",
        "print(f\"Доверительный интервал с надёжностями 0.999: {confidence_interval_999}\")"
      ]
    },
    {
      "cell_type": "markdown",
      "metadata": {
        "id": "78O2BD8BNNK0"
      },
      "source": [
        "3) Постройте гистограмму частот."
      ]
    },
    {
      "cell_type": "code",
      "execution_count": null,
      "metadata": {
        "colab": {
          "base_uri": "https://localhost:8080/",
          "height": 472
        },
        "id": "AmRIPV4nOIYJ",
        "outputId": "b3b4dd2a-6f44-4cd9-bb71-949d4e5713c3"
      },
      "outputs": [
        {
          "data": {
            "image/png": "[encoded data removed]",
            "text/plain": [
              "<Figure size 640x480 with 1 Axes>"
            ]
          },
          "metadata": {},
          "output_type": "display_data"
        }
      ],
      "source": [
        "import matplotlib.pyplot as plt\n",
        "\n",
        "df['Value'].hist(bins=10, edgecolor='black')\n",
        "plt.xlabel('Значения')\n",
        "plt.ylabel('Частота')\n",
        "plt.title('Гистограмма частот')\n",
        "plt.show()"
      ]
    },
    {
      "cell_type": "markdown",
      "metadata": {
        "id": "YEeGIfbDOQxP"
      },
      "source": [
        "4) Постройте график плотности нормального распределения с параметрами выборки.\n"
      ]
    },
    {
      "cell_type": "code",
      "execution_count": null,
      "metadata": {
        "colab": {
          "base_uri": "https://localhost:8080/",
          "height": 645
        },
        "id": "JtZW1MwtORrJ",
        "outputId": "8f2ddcdd-ae1f-44b0-e27a-566f3642bc5e"
      },
      "outputs": [
        {
          "name": "stderr",
          "output_type": "stream",
          "text": [
            "<ipython-input-47-32e1fde03954>:2: UserWarning: \n",
            "\n",
            "`distplot` is a deprecated function and will be removed in seaborn v0.14.0.\n",
            "\n",
            "Please adapt your code to use either `displot` (a figure-level function with\n",
            "similar flexibility) or `histplot` (an axes-level function for histograms).\n",
            "\n",
            "For a guide to updating your code to use the new functions, please see\n",
            "https://gist.github.com/mwaskom/de44147ed2974457ad6372750bbe5751\n",
            "\n",
            "  sns.distplot(df['Value'], fit=stats.norm, kde=False, bins=int(180/5), color = 'darkblue',\n"
          ]
        },
        {
          "data": {
            "image/png": "[encoded data removed]",
            "text/plain": [
              "<Figure size 640x480 with 1 Axes>"
            ]
          },
          "metadata": {},
          "output_type": "display_data"
        }
      ],
      "source": [
        "mu, std = df['Value'].mean(), df['Value'].std()\n",
        "sns.distplot(df['Value'], fit=stats.norm, kde=False, bins=int(180/5), color = 'darkblue',\n",
        "             hist_kws={'edgecolor':'black'},\n",
        "             fit_kws={\"color\": \"red\", \"lw\":2, \"label\": \"теоретическое нормальное распределение\"})\n",
        "plt.legend()\n",
        "plt.show()\n"
      ]
    },
    {
      "cell_type": "markdown",
      "metadata": {
        "id": "xRCOJWIyOWyq"
      },
      "source": [
        "5) Постройте диаграмму размаха данных (в Python – график boxplot; в Excel – биржевая диаграмма,\n",
        "блочная диаграмма с ограничителями - показывает распределение данных по квартилям с выбросами)."
      ]
    },
    {
      "cell_type": "code",
      "execution_count": null,
      "metadata": {
        "colab": {
          "base_uri": "https://localhost:8080/",
          "height": 452
        },
        "id": "6amkfMc7OX2b",
        "outputId": "3332e95e-6e85-416f-de08-7b65a0f6a512"
      },
      "outputs": [
        {
          "data": {
            "image/png": "[encoded data removed]",
            "text/plain": [
              "<Figure size 640x480 with 1 Axes>"
            ]
          },
          "metadata": {},
          "output_type": "display_data"
        }
      ],
      "source": [
        "plt.boxplot(df['Value'], vert=False)\n",
        "plt.title('Диаграмма размаха данных')\n",
        "plt.show()\n"
      ]
    },
    {
      "cell_type": "markdown",
      "metadata": {
        "id": "fokHINJ1Ocw6"
      },
      "source": [
        "6) Примените критерий Пирсона χ2\n",
        "с уровнем значимости 0,05 для проверки гипотезы о нормальном\n",
        "распределении генеральной совокупности. Сделайте вывод о принятии основной гипотезы."
      ]
    },
    {
      "cell_type": "code",
      "execution_count": null,
      "metadata": {
        "colab": {
          "base_uri": "https://localhost:8080/"
        },
        "id": "G7wY1K5kRBy7",
        "outputId": "e8f180cf-7308-4231-a441-bdd38a047997"
      },
      "outputs": [
        {
          "name": "stdout",
          "output_type": "stream",
          "text": [
            "Значение χ2: 6.720000000000001, p-значение: 0.03473525894473856\n",
            "Отклоняем основную гипотезу о нормальном распределении.\n"
          ]
        }
      ],
      "source": [
        "from scipy.stats import chisquare\n",
        "\n",
        "# Разбиваем данные на квартили\n",
        "quartiles = np.percentile(data, [25, 50, 75])\n",
        "# Подсчитываем количество значений в каждом квартиле\n",
        "counts = np.histogram(data, bins=[quartiles[0], quartiles[1], quartiles[2], max(data)])[0]\n",
        "\n",
        "# Применяем критерий Пирсона χ2\n",
        "chi2, p = chisquare(counts)\n",
        "\n",
        "print(f\"Значение χ2: {chi2}, p-значение: {p}\")\n",
        "if p > 0.05:\n",
        "  print(\"Принимаем основную гипотезу о нормальном распределении.\")\n",
        "else:\n",
        "  print(\"Отклоняем основную гипотезу о нормальном распределении.\")\n"
      ]
    },
    {
      "cell_type": "markdown",
      "metadata": {
        "id": "y5elsevrTeVl"
      },
      "source": [
        "**Задание B**"
      ]
    },
    {
      "cell_type": "markdown",
      "metadata": {
        "id": "S3crawdyZzej"
      },
      "source": [
        "113,19 111,77 111,38 106,92 106,39 104,61 106,13 109,96 92,31 96,24\n",
        "113,22 107,28 106,39 104,61 111,14 104,35 104,15 113,52 92,87 96,80\n",
        "109,63 104,97 111,14 104,35 113,78 107,91 105,17 112,79 93,43 97,37\n",
        "118,27 104,12 113,78 107,91 112,61 112,46 109,56 108,93 93,99 100,54\n",
        "108,08 107,12 112,28 106,13 107,91 113,65 113,36 112,79 94,56 100,57\n",
        "112,56 111,84 107,91 104,15 110,25 110,68 113,03 107,48 95,12 103,22\n",
        "108,57 113,78 110,25 105,17 106,92 108,57 109,30 105,14 95,68 105,86"
      ]
    },
    {
      "cell_type": "markdown",
      "metadata": {
        "id": "Q9JgoAppThaJ"
      },
      "source": [
        "1) Сравните распределения выборок Б и В с помощью критерия Колмогорова-Смирнова.\n",
        "Сделайте вывод о принятии основной гипотезы."
      ]
    },
    {
      "cell_type": "code",
      "execution_count": null,
      "metadata": {
        "id": "L-8oDUpBTi0O"
      },
      "outputs": [],
      "source": [
        "import numpy as np\n",
        "from scipy import stats\n",
        "import matplotlib.pyplot as plt\n"
      ]
    },
    {
      "cell_type": "code",
      "execution_count": null,
      "metadata": {
        "colab": {
          "base_uri": "https://localhost:8080/"
        },
        "id": "IrS8ym20V0p8",
        "outputId": "cd0e8b76-f20f-43a9-8e09-dce7f2f85655"
      },
      "outputs": [
        {
          "name": "stdout",
          "output_type": "stream",
          "text": [
            "KS-статистика: 0.3357142857142857, p-значение: 0.0001270768869551577\n"
          ]
        }
      ],
      "source": [
        "# Ваши данные\n",
        "data_B = np.array([110, 114, 100, 110, 117, 109, 117, 94, 116, 107,\n",
        "        110, 95, 122, 122, 115, 102, 116, 119, 116, 118,\n",
        "        115, 118, 106, 103, 116, 110, 109, 121, 123, 97,\n",
        "        113, 110, 119, 107, 93, 104, 115, 101, 121, 111,\n",
        "        107, 123, 109, 120, 100, 111, 110, 109, 106, 119,\n",
        "        105, 110, 123, 106, 95, 107, 105, 118, 114, 109,\n",
        "        100, 120, 107, 118, 110, 99, 117, 110, 104, 113,\n",
        "        108, 113, 105, 110, 117, 116, 111, 104, 115, 110,\n",
        "        98, 104, 110, 117, 113, 114, 107, 113, 107, 101,\n",
        "        112, 108, 116, 110, 111, 103, 111, 115, 110, 108])\n",
        "data_C = np.array([\n",
        "    113.19, 111.77, 111.38, 106.92, 106.39, 104.61, 106.13, 109.96, 92.31, 96.24,\n",
        "    113.22, 107.28, 106.39, 104.61, 111.14, 104.35, 104.15, 113.52, 92.87, 96.80,\n",
        "    109.63, 104.97, 111.14, 104.35, 113.78, 107.91, 105.17, 112.79, 93.43, 97.37,\n",
        "    118.27, 104.12, 113.78, 107.91, 112.61, 112.46, 109.56, 108.93, 93.99, 100.54,\n",
        "    108.08, 107.12, 112.28, 106.13, 107.91, 113.65, 113.36, 112.79, 94.56, 100.57,\n",
        "    112.56, 111.84, 107.91, 104.15, 110.25, 110.68, 113.03, 107.48, 95.12, 103.22,\n",
        "    108.57, 113.78, 110.25, 105.17, 106.92, 108.57, 109.30, 105.14, 95.68, 105.86\n",
        "])\n",
        "\n",
        "KS, p_value = stats.ks_2samp(data_B, data_C)\n",
        "print(f\"KS-статистика: {KS}, p-значение: {p_value}\")"
      ]
    },
    {
      "cell_type": "markdown",
      "metadata": {
        "id": "kuRTnMCzXNOH"
      },
      "source": [
        "2) Постройте график распределения (CDF) этой выборки."
      ]
    },
    {
      "cell_type": "code",
      "execution_count": null,
      "metadata": {
        "colab": {
          "base_uri": "https://localhost:8080/",
          "height": 472
        },
        "id": "EGAQlpuRXOoY",
        "outputId": "7efc792f-cf8f-4f34-da95-35f568debcfa"
      },
      "outputs": [
        {
          "data": {
            "image/png": "[encoded data removed]",
            "text/plain": [
              "<Figure size 640x480 with 1 Axes>"
            ]
          },
          "metadata": {},
          "output_type": "display_data"
        }
      ],
      "source": [
        "import matplotlib.pyplot as plt\n",
        "import numpy as np\n",
        "\n",
        "# Пример использования для выборки В\n",
        "plt.hist(data_C, bins=30, cumulative=True, color='blue', alpha=0.7, rwidth=0.85, density=True)\n",
        "plt.title('CDF с использованием гистограммы')\n",
        "plt.xlabel('Значения')\n",
        "plt.ylabel('Вероятность')\n",
        "plt.grid(True)\n",
        "plt.show()\n"
      ]
    },
    {
      "cell_type": "markdown",
      "metadata": {
        "id": "UGklRFWrYOau"
      },
      "source": [
        "3) Постройте график эмпирической функции плотности (полигон частот) этой выборки."
      ]
    },
    {
      "cell_type": "code",
      "execution_count": null,
      "metadata": {
        "colab": {
          "base_uri": "https://localhost:8080/",
          "height": 452
        },
        "id": "uTh6x__ZYPly",
        "outputId": "6efd725e-3df5-4b8d-e1be-51eee944e922"
      },
      "outputs": [
        {
          "data": {
            "image/png": "[encoded data removed]",
            "text/plain": [
              "<Figure size 640x480 with 1 Axes>"
            ]
          },
          "metadata": {},
          "output_type": "display_data"
        }
      ],
      "source": [
        "plt.hist(data_C, bins='auto', density=True, alpha=0.6, color='b')\n",
        "plt.title('Полигон частот выборки В')\n",
        "plt.show()"
      ]
    }
  ],
  "metadata": {
    "colab": {
      "provenance": []
    },
    "kernelspec": {
      "display_name": "Python 3",
      "name": "python3"
    },
    "language_info": {
      "name": "python"
    }
  },
  "nbformat": 4,
  "nbformat_minor": 0
}
